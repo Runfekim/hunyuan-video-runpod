{
  "cells": [
    {
      "cell_type": "markdown",
      "metadata": {
        "id": "view-in-github"
      },
      "source": [
        "[![Open In Colab](https://colab.research.google.com/assets/colab-badge.svg)](https://colab.research.google.com/github/camenduru/hunyuan-video-runpod/blob/main/test_jupyter.ipynb)"
      ]
    },
    {
      "cell_type": "code",
      "execution_count": null,
      "metadata": {
        "id": "VjYy0F2gZIPR"
      },
      "outputs": [],
      "source": [
        "import requests\n",
        "\n",
        "WORKER_ID = \"WORKER_ID_HERE\"\n",
        "RUNPOD_TOKEN = \"RUNPOD_TOKEN_HERE\"\n",
        "\n",
        "input = { \n",
        "    \"input\": {\n",
        "        \"input_image\": \"https://s3.tost.ai/input/1a83f39a-2979-4309-8b0c-a50ce961cdcb.png\",\n",
        "        \"crop\": \"center\",\n",
        "        \"prompt\": \"a cute anime girl with massive fennec ears and a big fluffy tail wearing a maid outfit walking forward\",\n",
        "        \"image_interleave\": 4,\n",
        "        \"width\": 512,\n",
        "        \"height\": 512,\n",
        "        \"length\": 57,\n",
        "        \"batch_size\": 1,\n",
        "        \"guidance_type\": \"v2 (replace)\",\n",
        "        \"guidance\": 6.0,\n",
        "        \"shift\": 7.0,\n",
        "        \"sampler_name\": \"euler\",\n",
        "        \"scheduler\": \"simple\",\n",
        "        \"steps\": 20,\n",
        "        \"denoise\": 1.0,\n",
        "        \"noise_seed\": 0, # if 0 random\n",
        "        \"tile_size\": 256,\n",
        "        \"overlap\": 64,\n",
        "        \"temporal_size\": 64,\n",
        "        \"temporal_overlap\": 8,\n",
        "        \"fps\": 24,\n",
        "        \"filename_prefix\": \"hunyuan_i2v\",\n",
        "        \"lossless\": False,\n",
        "        \"quality\": 90,\n",
        "        \"method\": \"default\",\n",
        "        \"is_output_webp\": False,\n",
        "        \"cloudinary_folder\": \"generated_videos\"\n",
        "    }\n",
        "}\n",
        "\n",
        "headers = {\n",
        "    \"Content-Type\": \"application/json\",\n",
        "    \"Authorization\": f\"Bearer {RUNPOD_TOKEN}\"\n",
        "}\n",
        "try:\n",
        "    response = requests.post(f\"https://api.runpod.ai/v2/{WORKER_ID}/run\", headers=headers, json=input)\n",
        "except Exception as e:\n",
        "    response = f\"An unexpected error occurred: {e}\"\n",
        "job_id = response.json()[\"id\"]\n",
        "job_id"
      ]
    },
    {
      "cell_type": "code",
      "execution_count": null,
      "metadata": {},
      "outputs": [],
      "source": [
        "result = requests.post(f\"https://api.runpod.ai/v2/{WORKER_ID}/status/{job_id}\", headers=headers, json=input)\n",
        "result.json()\n",
        "# result.json()[\"output\"][\"result\"]"
      ]
    }
  ],
  "metadata": {
    "kernelspec": {
      "display_name": "Python 3",
      "name": "python3"
    },
    "language_info": {
      "name": "python"
    }
  },
  "nbformat": 4,
  "nbformat_minor": 0
}
