{
 "cells": [
  {
   "cell_type": "code",
   "execution_count": null,
   "metadata": {
    "vscode": {
     "languageId": "plaintext"
    }
   },
   "outputs": [],
   "source": [
    "WORKER_ID = \"WORKER_ID_HERE\"\n",
    "RUNPOD_TOKEN = \"RUNPOD_TOKEN_HERE\"\n",
    "\n",
    "input = { \n",
    "    \"input\": {\n",
    "        \"input_image\": \"https://s3.tost.ai/input/1a83f39a-2979-4309-8b0c-a50ce961cdcb.png\",\n",
    "        \"crop\": \"center\",\n",
    "        \"prompt\": \"a cute anime girl with massive fennec ears and a big fluffy tail wearing a maid outfit walking forward\",\n",
    "        \"image_interleave\": 4,\n",
    "        \"width\": 512,\n",
    "        \"height\": 512,\n",
    "        \"length\": 57,\n",
    "        \"batch_size\": 1,\n",
    "        \"guidance_type\": \"v2 (replace)\",\n",
    "        \"guidance\": 6.0,\n",
    "        \"shift\": 7.0,\n",
    "        \"sampler_name\": \"euler\",\n",
    "        \"scheduler\": \"simple\",\n",
    "        \"steps\": 20,\n",
    "        \"denoise\": 1.0,\n",
    "        \"noise_seed\": 0,\n",
    "        \"tile_size\": 256,\n",
    "        \"overlap\": 64,\n",
    "        \"temporal_size\": 64,\n",
    "        \"temporal_overlap\": 8,\n",
    "        \"fps\": 24,\n",
    "        \"filename_prefix\": \"hunyuan_i2v\",\n",
    "        \"lossless\": False,\n",
    "        \"quality\": 90,\n",
    "        \"method\": \"default\",\n",
    "        \"is_output_webp\": False,\n",
    "        \"cloudinary_folder\": \"generated_videos\"\n",
    "    }\n",
    "}\n",
    "\n",
    "headers = {\n",
    "    \"Content-Type\": \"application/json\",\n",
    "    \"Authorization\": f\"Bearer {RUNPOD_TOKEN}\"\n",
    "}\n",
    "try:\n",
    "    respose = requests.post(f\"https://api.runpod.ai/v2/{WORKER_ID}/runsync\", headers=headers, json=input)\n",
    "except Exception as e:\n",
    "    respose = f\"An unexpected error occurred: {e}\"\n",
    "respose"
   ]
  }
 ],
 "metadata": {
  "language_info": {
   "name": "python"
  }
 },
 "nbformat": 4,
 "nbformat_minor": 2
}
